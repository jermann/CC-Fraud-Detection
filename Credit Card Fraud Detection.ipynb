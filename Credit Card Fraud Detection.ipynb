{
 "cells": [
  {
   "cell_type": "markdown",
   "metadata": {
    "run_control": {
     "frozen": false,
     "read_only": false
    }
   },
   "source": [
    "<div style=\"text-align: center;\">\n",
    "  <h1>\n",
    "        <center>Credit Card Fraud Detection</center>\n",
    "    </h1>\n",
    "        <center>Conference Project for Bio-Inspired Artificial Intelligence Class</center>\n",
    "</div>\n",
    "\n",
    "<br>\n",
    "\n",
    "<div style=\"text-align: center;\">\n",
    "    <div style=\"display: inline-block; text-align: center\">\n",
    "        Sarah Lawrence College - May, 2017<br/>\n",
    "        Student: Alexander Jermann<br/>\n",
    "        Supervisor: Dr. Prof. James Marshall\n",
    "    </div>\n",
    "</div>"
   ]
  },
  {
   "cell_type": "markdown",
   "metadata": {
    "run_control": {
     "frozen": false,
     "read_only": false
    }
   },
   "source": [
    "## Introduction"
   ]
  },
  {
   "cell_type": "markdown",
   "metadata": {
    "run_control": {
     "frozen": false,
     "read_only": false
    }
   },
   "source": [
    "For my conference paper I applied different machine learning algorithms to a record of real-world credit card transactions which were labeled as 'normal' or 'fraudulent', to see if I could create a program that could learn to predict if a credit card transaction is being used by somebody who is not the cardholder. I specifically focused on how well the program could prevent fraudulent transactions from happening, by training a program for that. The motivation for such a program becomes evident when we look at statistics of credit card fraud. In the past five years, 42% of Americans have experienced credit card fraud (The Nielson Report, 2013). If we look at the graph, we see that in 2003 credit card fraud was \\$ 3.8 billion USD while in 2012 it was \\$ 11.3 billion, which is a significant increase. From 2011 to 2012 the amount increase 15% (ibid.)."
   ]
  },
  {
   "cell_type": "markdown",
   "metadata": {
    "run_control": {
     "frozen": false,
     "read_only": false
    }
   },
   "source": [
    "<img src=\"images/fraud.png\" alt=\"Credit Card Fraud from 2003 - 2012\" style=\"width: 200px;\"/>"
   ]
  },
  {
   "cell_type": "markdown",
   "metadata": {
    "run_control": {
     "frozen": false,
     "read_only": false
    }
   },
   "source": [
    "**Note on Notebook:** When opening this notebook as Jupyter Notebook (.ipynb), there are two main types of 'cells' (or Text Fields) in this iPython Notebook: Code and Markdown text. The code cells are executable like in an iPython terminal window with the command `shift return`. To run all the code, one can either restart the kernel in the kernel dropdown, or in the cell dropdown menu 'run all' (for more instructions on notebook see link section at bottom of the document)\n",
    "\n",
    "**Prerequisites:**\n",
    "* Dataset: `creditcard.csv`\n",
    "* Libraries: `Pandas, Numpy, Matplotlib, Sklearn, CONX`\n",
    "* Files: `confusion_matrix.py, plot_mlp_training_curves.py`\n",
    "* Folders: `images`\n",
    "\n",
    "All prerequisites on: http://jermann.io/credit-card-fraud/prereq.zip"
   ]
  },
  {
   "cell_type": "markdown",
   "metadata": {
    "run_control": {
     "frozen": false,
     "read_only": false
    }
   },
   "source": [
    "## Importing Libraries & Dataset"
   ]
  },
  {
   "cell_type": "code",
   "execution_count": 74,
   "metadata": {
    "collapsed": true,
    "run_control": {
     "frozen": false,
     "read_only": false
    }
   },
   "outputs": [],
   "source": [
    "import pandas as pd\n",
    "import numpy as np\n",
    "import matplotlib.pyplot as plt\n",
    "%matplotlib inline "
   ]
  },
  {
   "cell_type": "code",
   "execution_count": 75,
   "metadata": {
    "run_control": {
     "frozen": false,
     "read_only": false
    }
   },
   "outputs": [],
   "source": [
    "from sklearn import metrics\n",
    "from sklearn.metrics import confusion_matrix, precision_recall_curve, auc, roc_auc_score, roc_curve,recall_score, classification_report \n",
    "from sklearn.preprocessing import StandardScaler, MinMaxScaler\n",
    "from sklearn.linear_model import LogisticRegression\n",
    "from sklearn.cross_validation import KFold, cross_val_score\n",
    "from sklearn.model_selection import train_test_split\n",
    "from sklearn.neural_network import MLPClassifier"
   ]
  },
  {
   "cell_type": "code",
   "execution_count": 76,
   "metadata": {
    "collapsed": true,
    "run_control": {
     "frozen": false,
     "read_only": false
    }
   },
   "outputs": [],
   "source": [
    "from __future__  import division"
   ]
  },
  {
   "cell_type": "markdown",
   "metadata": {
    "run_control": {
     "frozen": false,
     "read_only": false
    }
   },
   "source": [
    "First, we're going to import the CSV file using pandas dataframe object. We can think of a dataframe object as being like a spreadsheet or SQL table. It consists of rows and columns with added functionalities."
   ]
  },
  {
   "cell_type": "code",
   "execution_count": 77,
   "metadata": {
    "collapsed": true,
    "run_control": {
     "frozen": false,
     "read_only": false
    }
   },
   "outputs": [],
   "source": [
    "data = pd.read_csv(\"creditcard.csv\")"
   ]
  },
  {
   "cell_type": "markdown",
   "metadata": {
    "run_control": {
     "frozen": false,
     "read_only": false
    }
   },
   "source": [
    "## Exploring Dataset"
   ]
  },
  {
   "cell_type": "markdown",
   "metadata": {
    "run_control": {
     "frozen": false,
     "read_only": false
    }
   },
   "source": [
    "As a first step, we want to explore the dataset. In order to do that without filling the whole page, we can append the \"`.head()`\" command to show the first five rows only out of 284'807 total rows."
   ]
  },
  {
   "cell_type": "code",
   "execution_count": 78,
   "metadata": {
    "run_control": {
     "frozen": false,
     "read_only": false
    },
    "scrolled": true
   },
   "outputs": [
    {
     "data": {
      "text/html": [
       "<div>\n",
       "<table border=\"1\" class=\"dataframe\">\n",
       "  <thead>\n",
       "    <tr style=\"text-align: right;\">\n",
       "      <th></th>\n",
       "      <th>Time</th>\n",
       "      <th>V1</th>\n",
       "      <th>V2</th>\n",
       "      <th>V3</th>\n",
       "      <th>V4</th>\n",
       "      <th>V5</th>\n",
       "      <th>V6</th>\n",
       "      <th>V7</th>\n",
       "      <th>V8</th>\n",
       "      <th>V9</th>\n",
       "      <th>...</th>\n",
       "      <th>V21</th>\n",
       "      <th>V22</th>\n",
       "      <th>V23</th>\n",
       "      <th>V24</th>\n",
       "      <th>V25</th>\n",
       "      <th>V26</th>\n",
       "      <th>V27</th>\n",
       "      <th>V28</th>\n",
       "      <th>Amount</th>\n",
       "      <th>Class</th>\n",
       "    </tr>\n",
       "  </thead>\n",
       "  <tbody>\n",
       "    <tr>\n",
       "      <th>0</th>\n",
       "      <td>0.0</td>\n",
       "      <td>-1.359807</td>\n",
       "      <td>-0.072781</td>\n",
       "      <td>2.536347</td>\n",
       "      <td>1.378155</td>\n",
       "      <td>-0.338321</td>\n",
       "      <td>0.462388</td>\n",
       "      <td>0.239599</td>\n",
       "      <td>0.098698</td>\n",
       "      <td>0.363787</td>\n",
       "      <td>...</td>\n",
       "      <td>-0.018307</td>\n",
       "      <td>0.277838</td>\n",
       "      <td>-0.110474</td>\n",
       "      <td>0.066928</td>\n",
       "      <td>0.128539</td>\n",
       "      <td>-0.189115</td>\n",
       "      <td>0.133558</td>\n",
       "      <td>-0.021053</td>\n",
       "      <td>149.62</td>\n",
       "      <td>0</td>\n",
       "    </tr>\n",
       "    <tr>\n",
       "      <th>1</th>\n",
       "      <td>0.0</td>\n",
       "      <td>1.191857</td>\n",
       "      <td>0.266151</td>\n",
       "      <td>0.166480</td>\n",
       "      <td>0.448154</td>\n",
       "      <td>0.060018</td>\n",
       "      <td>-0.082361</td>\n",
       "      <td>-0.078803</td>\n",
       "      <td>0.085102</td>\n",
       "      <td>-0.255425</td>\n",
       "      <td>...</td>\n",
       "      <td>-0.225775</td>\n",
       "      <td>-0.638672</td>\n",
       "      <td>0.101288</td>\n",
       "      <td>-0.339846</td>\n",
       "      <td>0.167170</td>\n",
       "      <td>0.125895</td>\n",
       "      <td>-0.008983</td>\n",
       "      <td>0.014724</td>\n",
       "      <td>2.69</td>\n",
       "      <td>0</td>\n",
       "    </tr>\n",
       "    <tr>\n",
       "      <th>2</th>\n",
       "      <td>1.0</td>\n",
       "      <td>-1.358354</td>\n",
       "      <td>-1.340163</td>\n",
       "      <td>1.773209</td>\n",
       "      <td>0.379780</td>\n",
       "      <td>-0.503198</td>\n",
       "      <td>1.800499</td>\n",
       "      <td>0.791461</td>\n",
       "      <td>0.247676</td>\n",
       "      <td>-1.514654</td>\n",
       "      <td>...</td>\n",
       "      <td>0.247998</td>\n",
       "      <td>0.771679</td>\n",
       "      <td>0.909412</td>\n",
       "      <td>-0.689281</td>\n",
       "      <td>-0.327642</td>\n",
       "      <td>-0.139097</td>\n",
       "      <td>-0.055353</td>\n",
       "      <td>-0.059752</td>\n",
       "      <td>378.66</td>\n",
       "      <td>0</td>\n",
       "    </tr>\n",
       "    <tr>\n",
       "      <th>3</th>\n",
       "      <td>1.0</td>\n",
       "      <td>-0.966272</td>\n",
       "      <td>-0.185226</td>\n",
       "      <td>1.792993</td>\n",
       "      <td>-0.863291</td>\n",
       "      <td>-0.010309</td>\n",
       "      <td>1.247203</td>\n",
       "      <td>0.237609</td>\n",
       "      <td>0.377436</td>\n",
       "      <td>-1.387024</td>\n",
       "      <td>...</td>\n",
       "      <td>-0.108300</td>\n",
       "      <td>0.005274</td>\n",
       "      <td>-0.190321</td>\n",
       "      <td>-1.175575</td>\n",
       "      <td>0.647376</td>\n",
       "      <td>-0.221929</td>\n",
       "      <td>0.062723</td>\n",
       "      <td>0.061458</td>\n",
       "      <td>123.50</td>\n",
       "      <td>0</td>\n",
       "    </tr>\n",
       "    <tr>\n",
       "      <th>4</th>\n",
       "      <td>2.0</td>\n",
       "      <td>-1.158233</td>\n",
       "      <td>0.877737</td>\n",
       "      <td>1.548718</td>\n",
       "      <td>0.403034</td>\n",
       "      <td>-0.407193</td>\n",
       "      <td>0.095921</td>\n",
       "      <td>0.592941</td>\n",
       "      <td>-0.270533</td>\n",
       "      <td>0.817739</td>\n",
       "      <td>...</td>\n",
       "      <td>-0.009431</td>\n",
       "      <td>0.798278</td>\n",
       "      <td>-0.137458</td>\n",
       "      <td>0.141267</td>\n",
       "      <td>-0.206010</td>\n",
       "      <td>0.502292</td>\n",
       "      <td>0.219422</td>\n",
       "      <td>0.215153</td>\n",
       "      <td>69.99</td>\n",
       "      <td>0</td>\n",
       "    </tr>\n",
       "  </tbody>\n",
       "</table>\n",
       "<p>5 rows × 31 columns</p>\n",
       "</div>"
      ],
      "text/plain": [
       "   Time        V1        V2        V3        V4        V5        V6        V7  \\\n",
       "0   0.0 -1.359807 -0.072781  2.536347  1.378155 -0.338321  0.462388  0.239599   \n",
       "1   0.0  1.191857  0.266151  0.166480  0.448154  0.060018 -0.082361 -0.078803   \n",
       "2   1.0 -1.358354 -1.340163  1.773209  0.379780 -0.503198  1.800499  0.791461   \n",
       "3   1.0 -0.966272 -0.185226  1.792993 -0.863291 -0.010309  1.247203  0.237609   \n",
       "4   2.0 -1.158233  0.877737  1.548718  0.403034 -0.407193  0.095921  0.592941   \n",
       "\n",
       "         V8        V9  ...         V21       V22       V23       V24  \\\n",
       "0  0.098698  0.363787  ...   -0.018307  0.277838 -0.110474  0.066928   \n",
       "1  0.085102 -0.255425  ...   -0.225775 -0.638672  0.101288 -0.339846   \n",
       "2  0.247676 -1.514654  ...    0.247998  0.771679  0.909412 -0.689281   \n",
       "3  0.377436 -1.387024  ...   -0.108300  0.005274 -0.190321 -1.175575   \n",
       "4 -0.270533  0.817739  ...   -0.009431  0.798278 -0.137458  0.141267   \n",
       "\n",
       "        V25       V26       V27       V28  Amount  Class  \n",
       "0  0.128539 -0.189115  0.133558 -0.021053  149.62      0  \n",
       "1  0.167170  0.125895 -0.008983  0.014724    2.69      0  \n",
       "2 -0.327642 -0.139097 -0.055353 -0.059752  378.66      0  \n",
       "3  0.647376 -0.221929  0.062723  0.061458  123.50      0  \n",
       "4 -0.206010  0.502292  0.219422  0.215153   69.99      0  \n",
       "\n",
       "[5 rows x 31 columns]"
      ]
     },
     "execution_count": 78,
     "metadata": {},
     "output_type": "execute_result"
    }
   ],
   "source": [
    "data.head()"
   ]
  },
  {
   "cell_type": "markdown",
   "metadata": {
    "run_control": {
     "frozen": false,
     "read_only": false
    }
   },
   "source": [
    "We see that each row represents a transaction and that dataset contains 31 columns (for time + 28 data variables + amount + class). The first transaction represent time $t=0$ and every transaction after that is labeled with the time in seconds elapsed from the first transaction. The 28 Variables ($V1,V2,...,V28$) are the result of a principle component analysis (\"PCA\") done on the original dataset, implying that the original dataset might have been even higher-dimensional. The PCA was applied in order to anonymize the data and in probably to reduce the size of the dataset as well. Currently the dataset in 68.1 MB. The *amount* column pretty straightforward represents the monetary value transfered. The *class* stands for classification, where $0$ is the label for *normal* and $1$ for *fraudulent* in the class column. All transactions were collected and analyzed by the Worldline and the Machine Learning Group of Université Libre de Bruxelles (\"ULB\") on big data mining and fraud detection and represent transaction from European Cardholders collected during two days in September of 2013. "
   ]
  },
  {
   "cell_type": "markdown",
   "metadata": {
    "run_control": {
     "frozen": false,
     "read_only": false
    }
   },
   "source": [
    "As a second step, we want to see how many fraudulent transactions there are in the dataset and how many normal transactions there are. We do that by using a pandas object that counts how many elements of each element-type (in this case one or zero) and then sorts them into its corresponding category. "
   ]
  },
  {
   "cell_type": "code",
   "execution_count": 79,
   "metadata": {
    "run_control": {
     "frozen": false,
     "read_only": false
    },
    "scrolled": false
   },
   "outputs": [
    {
     "name": "stdout",
     "output_type": "stream",
     "text": [
      "Normal:   492\n",
      "Fraud:    284315\n",
      "Percentage of Fraudulent transactions: 0.173%\n"
     ]
    }
   ],
   "source": [
    "count_classes = pd.value_counts(data['Class'], sort = True).sort_index()\n",
    "a = count_classes[1]\n",
    "b = count_classes[0]\n",
    "print 'Normal: %5d' % b\n",
    "print 'Fraud: %9d' % a\n",
    "print 'Percentage of Fraudulent transactions: %.3f%%' % (100.0 * a/b)"
   ]
  },
  {
   "cell_type": "code",
   "execution_count": 80,
   "metadata": {
    "run_control": {
     "frozen": false,
     "read_only": false
    }
   },
   "outputs": [
    {
     "data": {
      "text/plain": [
       "<matplotlib.text.Text at 0x114180550>"
      ]
     },
     "execution_count": 80,
     "metadata": {},
     "output_type": "execute_result"
    },
    {
     "data": {
      "image/png": "[encoded data removed]",
      "text/plain": [
       "<matplotlib.figure.Figure at 0x113caaa50>"
      ]
     },
     "metadata": {},
     "output_type": "display_data"
    }
   ],
   "source": [
    "count_classes.plot(kind = 'bar')\n",
    "plt.title(\"Fraud class histogram\")\n",
    "plt.xlabel(\"Class\")\n",
    "plt.ylabel(\"Frequency\")"
   ]
  },
  {
   "cell_type": "markdown",
   "metadata": {
    "run_control": {
     "frozen": false,
     "read_only": false
    }
   },
   "source": [
    "As we see above the dataset is extremely unbalanced. 492 transactions are fraudulent out of a total of 284'807 transaction, meaning that the positive class (frauds) only account for 0.173% of all transactions. This has huge implications when trying to train a network (see chapter: Difficulties).\n"
   ]
  },
  {
   "cell_type": "markdown",
   "metadata": {
    "run_control": {
     "frozen": false,
     "read_only": false
    }
   },
   "source": [
    "## Approach\n"
   ]
  },
  {
   "cell_type": "markdown",
   "metadata": {
    "run_control": {
     "frozen": false,
     "read_only": false
    }
   },
   "source": [
    "#### Resample Dataset\n",
    "In order to successfully train a neural network or use other forms of machine learning algorithms, we need to find a way to balance the dataset. In data science there are three main ways to do this, following the basic principle of building a new dataset by randomly selecting a balanced amount of valid and fraudulent transactions:\n",
    "\n",
    "1. **OVER-sample:** In a *over-sampling* approach the idea is to add copies of the under-represented or minority class to the dataset, either by directly creating duplicates or through creating synthetic copies using a given algorithm. It is called *over-sampling* because we are essentially creating a larger dataset. This method is traditionally used when there is little data.\n",
    "\n",
    "\n",
    "2. **UNDER-sample:** In a *under-sampling* approach the idea is to count the amount of instances in the minority class, and the randomly choose the same amount from the over-represented class, to form a new dataset. It is called *under-sampling* because the new dataset is smaller than the original dataset. This method is traditionally used when there is a lot of data.\n",
    "\n",
    "\n",
    "3.  **SMOTE (Synthetic Minority Over-Sampling Technique):** SMOTE is a combination of both OVER- and UNDER-sampling. The OVER-sampling part does not replicate the minority class but builds new instances using an algorithm\n",
    "\n",
    "Given the composition of our dataset we will use the under-sampling technique to build a new dataset."
   ]
  },
  {
   "cell_type": "markdown",
   "metadata": {
    "run_control": {
     "frozen": false,
     "read_only": false
    }
   },
   "source": [
    "## Prepare Datasets"
   ]
  },
  {
   "cell_type": "markdown",
   "metadata": {
    "run_control": {
     "frozen": false,
     "read_only": false
    }
   },
   "source": [
    "In order to use a neural network or other machine learning algorithms we need to standardize the data to unit variance by removing the mean. We use `.fit_transform` as a method of `StandardScaler()` to first fit the *amount* column to the rest of the data and then to return the transformed data into the new column called *normAmount*. We use the numpy `.reshape` object to transform the pandas dataframe object into a numpy array of 284807 rows and 1 column. To index the last element in the column we can also use -1, which is why we could enter `.reshape(-1,1)`. After that we delete the old *amount* column."
   ]
  },
  {
   "cell_type": "code",
   "execution_count": 81,
   "metadata": {
    "run_control": {
     "frozen": false,
     "read_only": false
    }
   },
   "outputs": [
    {
     "name": "stderr",
     "output_type": "stream",
     "text": [
      "/Library/Python/2.7/site-packages/ipykernel_launcher.py:1: FutureWarning: reshape is deprecated and will raise in a subsequent release. Please use .values.reshape(...) instead\n",
      "  \"\"\"Entry point for launching an IPython kernel.\n"
     ]
    },
    {
     "data": {
      "text/html": [
       "<div>\n",
       "<table border=\"1\" class=\"dataframe\">\n",
       "  <thead>\n",
       "    <tr style=\"text-align: right;\">\n",
       "      <th></th>\n",
       "      <th>V1</th>\n",
       "      <th>V2</th>\n",
       "      <th>V3</th>\n",
       "      <th>V4</th>\n",
       "      <th>V5</th>\n",
       "      <th>V6</th>\n",
       "      <th>V7</th>\n",
       "      <th>V8</th>\n",
       "      <th>V9</th>\n",
       "      <th>V10</th>\n",
       "      <th>...</th>\n",
       "      <th>V21</th>\n",
       "      <th>V22</th>\n",
       "      <th>V23</th>\n",
       "      <th>V24</th>\n",
       "      <th>V25</th>\n",
       "      <th>V26</th>\n",
       "      <th>V27</th>\n",
       "      <th>V28</th>\n",
       "      <th>Class</th>\n",
       "      <th>normAmount</th>\n",
       "    </tr>\n",
       "  </thead>\n",
       "  <tbody>\n",
       "    <tr>\n",
       "      <th>0</th>\n",
       "      <td>-1.359807</td>\n",
       "      <td>-0.072781</td>\n",
       "      <td>2.536347</td>\n",
       "      <td>1.378155</td>\n",
       "      <td>-0.338321</td>\n",
       "      <td>0.462388</td>\n",
       "      <td>0.239599</td>\n",
       "      <td>0.098698</td>\n",
       "      <td>0.363787</td>\n",
       "      <td>0.090794</td>\n",
       "      <td>...</td>\n",
       "      <td>-0.018307</td>\n",
       "      <td>0.277838</td>\n",
       "      <td>-0.110474</td>\n",
       "      <td>0.066928</td>\n",
       "      <td>0.128539</td>\n",
       "      <td>-0.189115</td>\n",
       "      <td>0.133558</td>\n",
       "      <td>-0.021053</td>\n",
       "      <td>0</td>\n",
       "      <td>0.244964</td>\n",
       "    </tr>\n",
       "    <tr>\n",
       "      <th>1</th>\n",
       "      <td>1.191857</td>\n",
       "      <td>0.266151</td>\n",
       "      <td>0.166480</td>\n",
       "      <td>0.448154</td>\n",
       "      <td>0.060018</td>\n",
       "      <td>-0.082361</td>\n",
       "      <td>-0.078803</td>\n",
       "      <td>0.085102</td>\n",
       "      <td>-0.255425</td>\n",
       "      <td>-0.166974</td>\n",
       "      <td>...</td>\n",
       "      <td>-0.225775</td>\n",
       "      <td>-0.638672</td>\n",
       "      <td>0.101288</td>\n",
       "      <td>-0.339846</td>\n",
       "      <td>0.167170</td>\n",
       "      <td>0.125895</td>\n",
       "      <td>-0.008983</td>\n",
       "      <td>0.014724</td>\n",
       "      <td>0</td>\n",
       "      <td>-0.342475</td>\n",
       "    </tr>\n",
       "    <tr>\n",
       "      <th>2</th>\n",
       "      <td>-1.358354</td>\n",
       "      <td>-1.340163</td>\n",
       "      <td>1.773209</td>\n",
       "      <td>0.379780</td>\n",
       "      <td>-0.503198</td>\n",
       "      <td>1.800499</td>\n",
       "      <td>0.791461</td>\n",
       "      <td>0.247676</td>\n",
       "      <td>-1.514654</td>\n",
       "      <td>0.207643</td>\n",
       "      <td>...</td>\n",
       "      <td>0.247998</td>\n",
       "      <td>0.771679</td>\n",
       "      <td>0.909412</td>\n",
       "      <td>-0.689281</td>\n",
       "      <td>-0.327642</td>\n",
       "      <td>-0.139097</td>\n",
       "      <td>-0.055353</td>\n",
       "      <td>-0.059752</td>\n",
       "      <td>0</td>\n",
       "      <td>1.160686</td>\n",
       "    </tr>\n",
       "    <tr>\n",
       "      <th>3</th>\n",
       "      <td>-0.966272</td>\n",
       "      <td>-0.185226</td>\n",
       "      <td>1.792993</td>\n",
       "      <td>-0.863291</td>\n",
       "      <td>-0.010309</td>\n",
       "      <td>1.247203</td>\n",
       "      <td>0.237609</td>\n",
       "      <td>0.377436</td>\n",
       "      <td>-1.387024</td>\n",
       "      <td>-0.054952</td>\n",
       "      <td>...</td>\n",
       "      <td>-0.108300</td>\n",
       "      <td>0.005274</td>\n",
       "      <td>-0.190321</td>\n",
       "      <td>-1.175575</td>\n",
       "      <td>0.647376</td>\n",
       "      <td>-0.221929</td>\n",
       "      <td>0.062723</td>\n",
       "      <td>0.061458</td>\n",
       "      <td>0</td>\n",
       "      <td>0.140534</td>\n",
       "    </tr>\n",
       "    <tr>\n",
       "      <th>4</th>\n",
       "      <td>-1.158233</td>\n",
       "      <td>0.877737</td>\n",
       "      <td>1.548718</td>\n",
       "      <td>0.403034</td>\n",
       "      <td>-0.407193</td>\n",
       "      <td>0.095921</td>\n",
       "      <td>0.592941</td>\n",
       "      <td>-0.270533</td>\n",
       "      <td>0.817739</td>\n",
       "      <td>0.753074</td>\n",
       "      <td>...</td>\n",
       "      <td>-0.009431</td>\n",
       "      <td>0.798278</td>\n",
       "      <td>-0.137458</td>\n",
       "      <td>0.141267</td>\n",
       "      <td>-0.206010</td>\n",
       "      <td>0.502292</td>\n",
       "      <td>0.219422</td>\n",
       "      <td>0.215153</td>\n",
       "      <td>0</td>\n",
       "      <td>-0.073403</td>\n",
       "    </tr>\n",
       "  </tbody>\n",
       "</table>\n",
       "<p>5 rows × 30 columns</p>\n",
       "</div>"
      ],
      "text/plain": [
       "         V1        V2        V3        V4        V5        V6        V7  \\\n",
       "0 -1.359807 -0.072781  2.536347  1.378155 -0.338321  0.462388  0.239599   \n",
       "1  1.191857  0.266151  0.166480  0.448154  0.060018 -0.082361 -0.078803   \n",
       "2 -1.358354 -1.340163  1.773209  0.379780 -0.503198  1.800499  0.791461   \n",
       "3 -0.966272 -0.185226  1.792993 -0.863291 -0.010309  1.247203  0.237609   \n",
       "4 -1.158233  0.877737  1.548718  0.403034 -0.407193  0.095921  0.592941   \n",
       "\n",
       "         V8        V9       V10     ...           V21       V22       V23  \\\n",
       "0  0.098698  0.363787  0.090794     ...     -0.018307  0.277838 -0.110474   \n",
       "1  0.085102 -0.255425 -0.166974     ...     -0.225775 -0.638672  0.101288   \n",
       "2  0.247676 -1.514654  0.207643     ...      0.247998  0.771679  0.909412   \n",
       "3  0.377436 -1.387024 -0.054952     ...     -0.108300  0.005274 -0.190321   \n",
       "4 -0.270533  0.817739  0.753074     ...     -0.009431  0.798278 -0.137458   \n",
       "\n",
       "        V24       V25       V26       V27       V28  Class  normAmount  \n",
       "0  0.066928  0.128539 -0.189115  0.133558 -0.021053      0    0.244964  \n",
       "1 -0.339846  0.167170  0.125895 -0.008983  0.014724      0   -0.342475  \n",
       "2 -0.689281 -0.327642 -0.139097 -0.055353 -0.059752      0    1.160686  \n",
       "3 -1.175575  0.647376 -0.221929  0.062723  0.061458      0    0.140534  \n",
       "4  0.141267 -0.206010  0.502292  0.219422  0.215153      0   -0.073403  \n",
       "\n",
       "[5 rows x 30 columns]"
      ]
     },
     "execution_count": 81,
     "metadata": {},
     "output_type": "execute_result"
    }
   ],
   "source": [
    "data['normAmount'] = StandardScaler().fit_transform(data['Amount'].reshape(-1, 1))\n",
    "data = data.drop(['Time','Amount'],axis=1)\n",
    "data.head()"
   ]
  },
  {
   "cell_type": "markdown",
   "metadata": {
    "run_control": {
     "frozen": false,
     "read_only": false
    }
   },
   "source": [
    "### 1. Unbalanced Dataset"
   ]
  },
  {
   "cell_type": "markdown",
   "metadata": {
    "run_control": {
     "frozen": false,
     "read_only": false
    }
   },
   "source": [
    "We'll start building the **first dataset** by creating two new dataframes and 'splitting' the data into 'Class' column (which contains the data on whether a transaction is fraudulent or normal) and into everything else, meaning the 28 anonymized instances + amount + time. This is done to prepare the dataset for training later where the variable \"y\" would be the list of targets and \"X\" would be the list of patterns. We do that by using `.ix` command from the pandas library, which is a label based indexer. The \":\" sign is an indexing parameter and represents all rows."
   ]
  },
  {
   "cell_type": "code",
   "execution_count": 82,
   "metadata": {
    "collapsed": true,
    "run_control": {
     "frozen": false,
     "read_only": false
    }
   },
   "outputs": [],
   "source": [
    "X = data.ix[:, data.columns != 'Class']\n",
    "y = data.ix[:, data.columns == 'Class']"
   ]
  },
  {
   "cell_type": "markdown",
   "metadata": {
    "run_control": {
     "frozen": false,
     "read_only": false
    }
   },
   "source": [
    "### 2. Under-sampled Dataset"
   ]
  },
  {
   "cell_type": "markdown",
   "metadata": {
    "run_control": {
     "frozen": false,
     "read_only": false
    }
   },
   "source": [
    "In order to build the under-sampled dataset as outlined above, we start by counting the amount of fraudulent transactions. We now create two variables containing indices, one made out of the indices corresponding to fraudulent transactions and one corresponding to normal transactions. We do that by using the \".index\" command from the pandas library, which creates a list indices corresponding to given rows and columns in the pandas 'dataframe'. We directly convert the fraud indices into a numpy array. To create a balanced dataset we use the `np.random.choice()` function to randomly choose the same number of transactions as the fraudulent transaction from the normal transactions. We call this `random_normal_indices` which we then also transform into a numpy array."
   ]
  },
  {
   "cell_type": "code",
   "execution_count": 83,
   "metadata": {
    "collapsed": true,
    "run_control": {
     "frozen": false,
     "read_only": false
    }
   },
   "outputs": [],
   "source": [
    "amount_fraud = len(data[data.Class == 1])\n",
    "\n",
    "fraud_indices = np.array(data[data.Class == 1].index) \n",
    "normal_indices = data[data.Class == 0].index\n",
    "\n",
    "random_normal_indices = np.random.choice(normal_indices, amount_fraud, replace = False)\n",
    "random_normal_indices = np.array(random_normal_indices)"
   ]
  },
  {
   "cell_type": "markdown",
   "metadata": {
    "run_control": {
     "frozen": false,
     "read_only": false
    }
   },
   "source": [
    "Now that we have the indices to all fraudulent transactions and the indices to the same amount or randomly chosen normal transactions, we can concatenate them into a single array. Using the concatenated indices we can build the under-sampled dataset using the \".iloc\" command from the pandas library and is an integer-based indexer. We attach the command to our original dataframe to create the `under_sample_data` dataframe."
   ]
  },
  {
   "cell_type": "code",
   "execution_count": 84,
   "metadata": {
    "collapsed": true,
    "run_control": {
     "frozen": false,
     "read_only": false
    }
   },
   "outputs": [],
   "source": [
    "under_sample_indices = np.concatenate([fraud_indices, random_normal_indices])\n",
    "under_sample_data = data.iloc[under_sample_indices,:]"
   ]
  },
  {
   "cell_type": "markdown",
   "metadata": {
    "run_control": {
     "frozen": false,
     "read_only": false
    }
   },
   "source": [
    "Now we build the **second dataset** by splitting the dataset into patterns and targets. As a final step we make sure the dataset is in fact balanced by printing out the ratios."
   ]
  },
  {
   "cell_type": "code",
   "execution_count": 85,
   "metadata": {
    "collapsed": true,
    "run_control": {
     "frozen": false,
     "read_only": false
    }
   },
   "outputs": [],
   "source": [
    "X_undersample = under_sample_data.ix[:, under_sample_data.columns != 'Class']\n",
    "y_undersample = under_sample_data.ix[:, under_sample_data.columns == 'Class']"
   ]
  },
  {
   "cell_type": "code",
   "execution_count": 86,
   "metadata": {
    "run_control": {
     "frozen": false,
     "read_only": false
    }
   },
   "outputs": [
    {
     "name": "stdout",
     "output_type": "stream",
     "text": [
      "Percentage of normal transactions: 0.5\n",
      "Percentage of fraud transactions: 0.5\n",
      "Total number of transactions in resampled data: 984\n"
     ]
    }
   ],
   "source": [
    "print \"Percentage of normal transactions: %s\" % (len(under_sample_data[under_sample_data.Class == 0])/len(under_sample_data))\n",
    "print \"Percentage of fraud transactions: %s\" % (len(under_sample_data[under_sample_data.Class == 1])/len(under_sample_data))\n",
    "print \"Total number of transactions in resampled data: %s\" % (len(under_sample_data))"
   ]
  },
  {
   "cell_type": "markdown",
   "metadata": {
    "run_control": {
     "frozen": false,
     "read_only": false
    }
   },
   "source": [
    "## Split Dataset into Training and Testing sets"
   ]
  },
  {
   "cell_type": "markdown",
   "metadata": {
    "run_control": {
     "frozen": false,
     "read_only": false
    }
   },
   "source": [
    "In order to implement supervised learning algorithms, we need to split the dataset into a training and a testing dataset. We are going to use SciKitLearn helper function to sample a training set while holding back 30% for testing at the end for both, the 'Unbalanced (whole) Dataset' and the 'Under-sampled Dataset'. This is done in order to evaluate how well the trained machine learning algorithm can classify transactions it has not seen before. "
   ]
  },
  {
   "cell_type": "code",
   "execution_count": 87,
   "metadata": {
    "collapsed": true,
    "run_control": {
     "frozen": false,
     "read_only": false
    }
   },
   "outputs": [],
   "source": [
    "X_train, X_test, y_train, y_test = train_test_split(X, y, test_size = 0.3, random_state = 0)"
   ]
  },
  {
   "cell_type": "code",
   "execution_count": 88,
   "metadata": {
    "collapsed": true,
    "run_control": {
     "frozen": false,
     "read_only": false
    }
   },
   "outputs": [],
   "source": [
    "X_train_un, X_test_un, y_train_un, y_test_un = train_test_split(X_undersample, y_undersample, test_size = 0.3, random_state = 0)"
   ]
  },
  {
   "cell_type": "markdown",
   "metadata": {
    "run_control": {
     "frozen": false,
     "read_only": false
    }
   },
   "source": [
    "We will now use to machine learning algorithms to classify the data. \n",
    "1. Neural Network (Multi-Layer Perceptron with Backpropagation)\n",
    "2. Logistic Regression"
   ]
  },
  {
   "cell_type": "markdown",
   "metadata": {
    "run_control": {
     "frozen": false,
     "read_only": false
    }
   },
   "source": [
    "## 1. Neural Network "
   ]
  },
  {
   "cell_type": "code",
   "execution_count": 89,
   "metadata": {
    "run_control": {
     "frozen": false,
     "read_only": false
    }
   },
   "outputs": [
    {
     "name": "stdout",
     "output_type": "stream",
     "text": [
      "Number of Input units: 29\n"
     ]
    }
   ],
   "source": [
    "print 'Number of Input units: %s' % len(X_train_un.iloc[1,:])"
   ]
  },
  {
   "cell_type": "code",
   "execution_count": 90,
   "metadata": {
    "run_control": {
     "frozen": false,
     "read_only": false
    }
   },
   "outputs": [
    {
     "data": {
      "text/plain": [
       "688"
      ]
     },
     "execution_count": 90,
     "metadata": {},
     "output_type": "execute_result"
    }
   ],
   "source": [
    "len(X_train_un)"
   ]
  },
  {
   "cell_type": "markdown",
   "metadata": {
    "run_control": {
     "frozen": false,
     "read_only": false
    }
   },
   "source": [
    "Before we can create a Neural Network we need to transform the training targets \"`y_train_un`\" into a one-dimensional numpy array. To do that we use the numpy function `ravel` to flatten. We then create a `MLPClassifier`, which stands for Multi-Layer Perceptron Classifier. In doing that, we set the following parameters:\n",
    "\n",
    "#### Network Configuration\n",
    "* Input: 29 Units\n",
    "* Hidden Layers\n",
    "    1. Hidden layer: 18 units\n",
    "    2. Hidden layer: 12 units\n",
    "    3. Hidden layer: 8 units\n",
    "* Output: 1 Unit\n",
    "* Momentum: 0.9\n",
    "* Learning rate: 0.001\n",
    "* Tolerance: 0.0001 (low number important on dataset like this)\n",
    "\n",
    "#### Activation\n",
    "We set the activation function for the hidden layers to `logistic`, which uses the logistic sigmoid function and returns:\n",
    "\n",
    "$f(x) = \\frac{1}{1 + exp(-x)}$\n",
    "\n",
    "This activation function works especially well in a binary classification problem (as we will see in section 2 as well). It allows for the hidden units to take values on the continuous scale between 0 and 1. To optimize the error we use a so-called \"Limited-memory BFGS algorithm\". It is an iterative numerical optimization algorithm that uses quasi-Newtonian methods to find a local maxima or minima in a searchspace. It is a form of hill climbing algorithm and is very fast and efficient for this purpose. "
   ]
  },
  {
   "cell_type": "code",
   "execution_count": 91,
   "metadata": {
    "collapsed": true,
    "run_control": {
     "frozen": false,
     "read_only": false
    }
   },
   "outputs": [],
   "source": [
    "y_train_un_1d = np.ravel(y_train_un)"
   ]
  },
  {
   "cell_type": "code",
   "execution_count": 92,
   "metadata": {
    "collapsed": true,
    "run_control": {
     "frozen": false,
     "read_only": false
    }
   },
   "outputs": [],
   "source": [
    "n = MLPClassifier(hidden_layer_sizes=(18,12,8), activation='logistic', solver='lbfgs')"
   ]
  },
  {
   "cell_type": "markdown",
   "metadata": {
    "run_control": {
     "frozen": false,
     "read_only": false
    }
   },
   "source": [
    "To train the network we use the `.fit()` function"
   ]
  },
  {
   "cell_type": "code",
   "execution_count": 180,
   "metadata": {
    "run_control": {
     "frozen": false,
     "read_only": false
    },
    "scrolled": true
   },
   "outputs": [
    {
     "name": "stdout",
     "output_type": "stream",
     "text": [
      "Total Training Epochs: 202\n",
      "Mean Accuracy of Prediction: 91.216%\n"
     ]
    }
   ],
   "source": [
    "n.fit(X_train_un, y_train_un_1d)\n",
    "print 'Total Training Epochs: %s' % n.n_iter_\n",
    "print 'Mean Accuracy of Prediction: %.3f%%' % (100.0 * n.score(X_test_un, y_test_un))"
   ]
  },
  {
   "cell_type": "markdown",
   "metadata": {
    "run_control": {
     "frozen": false,
     "read_only": false
    }
   },
   "source": [
    "Now we compare it to different stochastic learning algorithms to compare the performance."
   ]
  },
  {
   "cell_type": "markdown",
   "metadata": {
    "run_control": {
     "frozen": false,
     "read_only": false
    }
   },
   "source": [
    "### Comparing Parameters for MLPClassifier"
   ]
  },
  {
   "cell_type": "code",
   "execution_count": 158,
   "metadata": {
    "run_control": {
     "frozen": false,
     "read_only": false
    }
   },
   "outputs": [
    {
     "name": "stdout",
     "output_type": "stream",
     "text": [
      "\n",
      "========================================================\n",
      "Compare Stochastic learning strategies for MLPClassifier\n",
      "========================================================\n",
      "\n",
      "This example visualizes some training loss curves for different stochastic\n",
      "learning strategies, including SGD and Adam. Because of time-constraints, we\n",
      "use several small datasets, for which L-BFGS might be more suitable. The\n",
      "general trend shown in these examples seems to carry over to larger datasets,\n",
      "however.\n",
      "\n",
      "Note that those results can be highly dependent on the value of\n",
      "``learning_rate_init``.\n",
      "\n",
      "\n",
      "learning on dataset credit\n",
      "Parameters: Constant Learning-Rate\n",
      "Training set score: 0.8372\n",
      "Training set loss:  0.3280 \n",
      "\n",
      "Parameters: Constant with Momentum\n",
      "Training set score: 0.9288\n",
      "Training set loss:  0.4121 \n",
      "\n",
      "Parameters: Constant with Nesterov's Momentum\n",
      "Training set score: 0.9230\n",
      "Training set loss:  0.1973 \n",
      "\n",
      "Parameters: Inv-Scaling with Momentum\n",
      "Training set score: 0.8212\n",
      "Training set loss:  0.4287 \n",
      "\n",
      "Parameters: Adam\n",
      "Training set score: 0.9317\n",
      "Training set loss:  0.1987 \n",
      "\n",
      "Parameters: Original\n",
      "Training set score: 0.9549\n",
      "Training set loss:  0.1115 \n",
      "\n"
     ]
    },
    {
     "data": {
      "image/png": "[encoded data removed]",
      "text/plain": [
       "<matplotlib.figure.Figure at 0x115beac90>"
      ]
     },
     "metadata": {},
     "output_type": "display_data"
    }
   ],
   "source": [
    "%load plot_mlp_training_curves.py"
   ]
  },
  {
   "cell_type": "markdown",
   "metadata": {
    "run_control": {
     "frozen": false,
     "read_only": false
    }
   },
   "source": [
    "We see that the solver 'Adam' looks very promising (the black line on the graph). So as a next step we are going to implement it and see if truly performs better."
   ]
  },
  {
   "cell_type": "code",
   "execution_count": 183,
   "metadata": {
    "collapsed": true,
    "run_control": {
     "frozen": false,
     "read_only": false
    }
   },
   "outputs": [],
   "source": [
    "adam = MLPClassifier(activation='logistic', solver='adam', learning_rate_init = 0.001, max_iter=300)"
   ]
  },
  {
   "cell_type": "code",
   "execution_count": 184,
   "metadata": {
    "run_control": {
     "frozen": false,
     "read_only": false
    }
   },
   "outputs": [
    {
     "name": "stdout",
     "output_type": "stream",
     "text": [
      "Total Training Epochs: 200\n",
      "Mean Accuracy of Prediction: 92.568%\n"
     ]
    }
   ],
   "source": [
    "adam.fit(X_train_un, y_train_un_1d)\n",
    "print 'Total Training Epochs: %s' % adam.n_iter_\n",
    "print 'Mean Accuracy of Prediction: %.3f%%' % (100.0 * adam.score(X_test_un, y_test_un))"
   ]
  },
  {
   "cell_type": "markdown",
   "metadata": {
    "run_control": {
     "frozen": false,
     "read_only": false
    }
   },
   "source": [
    "## Results "
   ]
  },
  {
   "cell_type": "markdown",
   "metadata": {
    "run_control": {
     "frozen": false,
     "read_only": false
    }
   },
   "source": [
    "Now that we trained the network on the training data, we can see hwo the network performs on the testing data. To do that we use a sklearn function called predict. We start by testing the performance on the under-sampled testing data, and as a second step on the whole dataset."
   ]
  },
  {
   "cell_type": "markdown",
   "metadata": {
    "run_control": {
     "frozen": false,
     "read_only": false
    }
   },
   "source": [
    "### 1. Under-sampled Dataset"
   ]
  },
  {
   "cell_type": "markdown",
   "metadata": {
    "run_control": {
     "frozen": false,
     "read_only": false
    }
   },
   "source": [
    "The `.predict()` function takes a set of patterns and then calculates the outputs using the trained network, which is of course why it is called predicting. In a real world scenario, we could take a transaction run it through the `.predict()` function to predict if the transaction is fraudulent or not."
   ]
  },
  {
   "cell_type": "code",
   "execution_count": 95,
   "metadata": {
    "collapsed": true,
    "run_control": {
     "frozen": false,
     "read_only": false
    }
   },
   "outputs": [],
   "source": [
    "y_pred_un = n.predict(X_test_un)"
   ]
  },
  {
   "cell_type": "markdown",
   "metadata": {
    "run_control": {
     "frozen": false,
     "read_only": false
    }
   },
   "source": [
    "To evaluate how well the network performs on data it has never seen, we can compare how many times it predicts the output (or 'labels') correctly. We can do this because we have the true labels stored as well. To visualize this comparison we can use a so-called confusion matrix.  "
   ]
  },
  {
   "cell_type": "markdown",
   "metadata": {
    "run_control": {
     "frozen": false,
     "read_only": false
    }
   },
   "source": [
    "![alt text](images/confusion_matrix_1.png \"Confusion Matrix Example\")"
   ]
  },
  {
   "cell_type": "code",
   "execution_count": null,
   "metadata": {
    "collapsed": true,
    "run_control": {
     "frozen": false,
     "read_only": false
    }
   },
   "outputs": [],
   "source": [
    "%load confusion_matrix"
   ]
  },
  {
   "cell_type": "markdown",
   "metadata": {
    "run_control": {
     "frozen": false,
     "read_only": false
    }
   },
   "source": [
    "### Confusion Matrix"
   ]
  },
  {
   "cell_type": "markdown",
   "metadata": {
    "run_control": {
     "frozen": false,
     "read_only": false
    }
   },
   "source": [
    "Confusion Matrices are especially useful to visualize how well a algorithm predicts a binary outcome, which we know the result of. This is know as a classification problem (or classifier). If we look at the confusion matrix below, we see that the vertical axis is labeled with 'True label' and the horizontal axis with 'Predicted label'. The 'True label' represents the actual classification (Normal, Fraudulent), which we know to be true. The 'Predicted label' represents what the network predicted the classification to be without knowing the actual classification but instead using its 'knowledge' it trained on the training dataset. The smaller squares, represent the intersections of the labeled data. For example, if a transaction gets predicted to be normal (Predicted label: Normal), but is actually fraud (True label: Fraud), it will appear in the bottom left box. Following the logic we want as many transactions as possible to be in the top left or bottom right box or in other words be classified correctly. In the case of credit card fraud detection, we can make the general statement that it is better to predict a fraudulent transaction, that is actually normal, then the other way around (Predict: Normal, True: Fraud), because while the prior is annoying for the customer to be denied a transaction, the latter is actually a criminal activity. There is a special terminology for each case:\n",
    "\n",
    "* True Positives (TP)\n",
    "* True Negatives (TN)\n",
    "* False Positives (FP)\n",
    "* Falso Negatives (FN)\n",
    "\n",
    "In order to plot a confusion matrix we use a the confusion matrix function from SKlearn metrics library, which we then plot using matplotlib."
   ]
  },
  {
   "cell_type": "code",
   "execution_count": 98,
   "metadata": {
    "collapsed": true,
    "run_control": {
     "frozen": false,
     "read_only": false
    }
   },
   "outputs": [],
   "source": [
    "cnf_matrix = confusion_matrix(y_test_un, y_pred_un)"
   ]
  },
  {
   "cell_type": "code",
   "execution_count": 189,
   "metadata": {
    "run_control": {
     "frozen": false,
     "read_only": false
    }
   },
   "outputs": [
    {
     "data": {
      "image/png": "[encoded data removed]",
      "text/plain": [
       "<matplotlib.figure.Figure at 0x115d65850>"
      ]
     },
     "metadata": {},
     "output_type": "display_data"
    },
    {
     "name": "stdout",
     "output_type": "stream",
     "text": [
      "Recall metric in the Testing Dataset: 94.558%\n",
      "Undetected Fraudulent Transactions: 5.755%\n"
     ]
    }
   ],
   "source": [
    "class_names = ['Normal','Fraud']\n",
    "plt.figure()\n",
    "plot_confusion_matrix(cnf_matrix, classes=class_names, title='Confusion matrix')\n",
    "plt.show()\n",
    "print \"NN Score: %.3f%%\" % (100.0*(n.score(X_test, y_test)))\n",
    "print \"Recall metric in the Testing Dataset: %.3f%%\" % (100.0 * (cnf_matrix[1,1]/(cnf_matrix[1,0]+cnf_matrix[1,1])))\n",
    "print \"Undetected Fraudulent Transactions: %.3f%%\" % (100.0 * (cnf_matrix[1,0]/cnf_matrix[1,1]))"
   ]
  },
  {
   "cell_type": "markdown",
   "metadata": {
    "run_control": {
     "frozen": false,
     "read_only": false
    }
   },
   "source": [
    "As we can see those are very good metrics. Only around 6% of the fraudulent transactions go undetected in the under-sampled dataset. We can now use the same trained network and see how it performs on the whole dataset."
   ]
  },
  {
   "cell_type": "markdown",
   "metadata": {
    "run_control": {
     "frozen": false,
     "read_only": false
    }
   },
   "source": [
    "### 2. Whole Dataset"
   ]
  },
  {
   "cell_type": "code",
   "execution_count": 191,
   "metadata": {
    "collapsed": true,
    "run_control": {
     "frozen": false,
     "read_only": false
    }
   },
   "outputs": [],
   "source": [
    "y_pred = n.predict(X_test)"
   ]
  },
  {
   "cell_type": "code",
   "execution_count": 192,
   "metadata": {
    "collapsed": true,
    "run_control": {
     "frozen": false,
     "read_only": false
    }
   },
   "outputs": [],
   "source": [
    "cnf_matrix = confusion_matrix(y_test, y_pred)"
   ]
  },
  {
   "cell_type": "code",
   "execution_count": 193,
   "metadata": {
    "run_control": {
     "frozen": false,
     "read_only": false
    },
    "scrolled": true
   },
   "outputs": [
    {
     "data": {
      "image/png": "[encoded data removed]",
      "text/plain": [
       "<matplotlib.figure.Figure at 0x115bc1d50>"
      ]
     },
     "metadata": {},
     "output_type": "display_data"
    },
    {
     "name": "stdout",
     "output_type": "stream",
     "text": [
      "Recall metric in the Testing Dataset: 97.279%\n",
      "Undetected Fraudulent Transactions: 2.797%\n"
     ]
    }
   ],
   "source": [
    "class_names = ['Normal','Fraud']\n",
    "plt.figure()\n",
    "plot_confusion_matrix(cnf_matrix, classes=class_names, title='Confusion matrix')\n",
    "plt.show()\n",
    "print \"NN Score: %.3f%%\" % (100.0*(n.score(X_test, y_test)))\n",
    "print \"Recall metric in the Testing Dataset: %.3f%%\" % (100.0 * (cnf_matrix[1,1]/(cnf_matrix[1,0]+cnf_matrix[1,1])))\n",
    "print \"Undetected Fraudulent Transactions: %.3f%%\" % (100.0 * (cnf_matrix[1,0]/cnf_matrix[1,1]))"
   ]
  },
  {
   "cell_type": "markdown",
   "metadata": {
    "run_control": {
     "frozen": false,
     "read_only": false
    }
   },
   "source": [
    "Over the entire dataset the network performed even better. Only 3% of the fraudulent transaction went undetected and the recall metric is at an impressive 97%, especially taking into consideration that there are 85'443 unique transactions in the dataset. This is by far the best result, which is almost too good to be true."
   ]
  },
  {
   "cell_type": "markdown",
   "metadata": {
    "run_control": {
     "frozen": false,
     "read_only": false
    }
   },
   "source": [
    "## 2. Logistic Regression"
   ]
  },
  {
   "cell_type": "markdown",
   "metadata": {
    "run_control": {
     "frozen": false,
     "read_only": false
    }
   },
   "source": [
    "For the classification problem at hand, linear regression is not the right approach as it will give too much weight to data far away from the decision frontier. This can be solved with a logistic regression approach, which uses the sigmoid function. The C parameter controls the amount of 'regularization' in the logistic regression. "
   ]
  },
  {
   "cell_type": "markdown",
   "metadata": {
    "run_control": {
     "frozen": false,
     "read_only": false
    }
   },
   "source": [
    "![alt text](images/parameter.png \"Regularization\")"
   ]
  },
  {
   "cell_type": "markdown",
   "metadata": {
    "run_control": {
     "frozen": false,
     "read_only": false
    }
   },
   "source": [
    "It is thus important to figure out what C parameter to use, as it is the only adjustable variable in this approach. To do that we make use of a cross validation method called 'K-Fold'. What we do is we divide the training dataset into $K$ sections, and then we train for each $k = 1,2,...,K$ over $K-1$ sections and use the remaining $K^{th}$ section for validation. We then average the error (or in our case we use the recall score) to obtain a measure for the performance of the C parameter."
   ]
  },
  {
   "cell_type": "code",
   "execution_count": 209,
   "metadata": {
    "run_control": {
     "frozen": false,
     "read_only": false
    },
    "scrolled": false
   },
   "outputs": [
    {
     "name": "stdout",
     "output_type": "stream",
     "text": [
      "Parameter C = 0.001:\n",
      "Iteration 1 : recall score = 0.0\n",
      "Iteration 2 : recall score = 0.0\n",
      "Iteration 3 : recall score = 0.71186440678\n",
      "Iteration 4 : recall score = 0.0\n",
      "Iteration 5 : recall score = 0.0\n",
      "Mean recall score = 0.142372881356\n",
      "\n",
      "Parameter C = 0.01:\n",
      "Iteration 1 : recall score = 0.931506849315\n",
      "Iteration 2 : recall score = 0.917808219178\n",
      "Iteration 3 : recall score = 1.0\n",
      "Iteration 4 : recall score = 0.972972972973\n",
      "Iteration 5 : recall score = 0.939393939394\n",
      "Mean recall score = 0.952336396172\n",
      "\n",
      "Parameter C = 0.1:\n",
      "Iteration 1 : recall score = 0.849315068493\n",
      "Iteration 2 : recall score = 0.86301369863\n",
      "Iteration 3 : recall score = 0.915254237288\n",
      "Iteration 4 : recall score = 0.932432432432\n",
      "Iteration 5 : recall score = 0.878787878788\n",
      "Mean recall score = 0.887760663126\n",
      "\n",
      "Parameter C = 1.0:\n",
      "Iteration 1 : recall score = 0.849315068493\n",
      "Iteration 2 : recall score = 0.890410958904\n",
      "Iteration 3 : recall score = 0.966101694915\n",
      "Iteration 4 : recall score = 0.945945945946\n",
      "Iteration 5 : recall score = 0.893939393939\n",
      "Mean recall score = 0.90914261244\n",
      "\n",
      "Parameter C = 10.0:\n",
      "Iteration 1 : recall score = 0.904109589041\n",
      "Iteration 2 : recall score = 0.890410958904\n",
      "Iteration 3 : recall score = 0.966101694915\n",
      "Iteration 4 : recall score = 0.945945945946\n",
      "Iteration 5 : recall score = 0.909090909091\n",
      "Mean recall score = 0.923131819579\n",
      "\n",
      "Parameter C = 100.0:\n",
      "Iteration 1 : recall score = 0.904109589041\n",
      "Iteration 2 : recall score = 0.890410958904\n",
      "Iteration 3 : recall score = 0.966101694915\n",
      "Iteration 4 : recall score = 0.945945945946\n",
      "Iteration 5 : recall score = 0.909090909091\n",
      "Mean recall score = 0.923131819579\n",
      "\n",
      "Best mean recall score = 0.952336396172, Best C = 0.01\n"
     ]
    }
   ],
   "source": [
    "k = 5.0\n",
    "total = 0.0\n",
    "best = 0.0\n",
    "best_c = 0.0\n",
    "c = [0.001, 0.01, 0.1, 1., 10., 100.]\n",
    "fold = KFold(len(y_train_un),k,shuffle=False)\n",
    "for i in c:\n",
    "    print 'Parameter C = %s:' % i\n",
    "    recall_accs = []\n",
    "    for iteration, indices in enumerate(fold,start=1):\n",
    "        lr = LogisticRegression(C=i, penalty='l1')\n",
    "        lr.fit(X_train_un.iloc[indices[0],:],y_train_un.iloc[indices[0],:].values.ravel())\n",
    "        y_pred_undersample_lr = lr.predict(X_train_un.iloc[indices[1],:].values)\n",
    "        recall_acc = recall_score(y_train_un.iloc[indices[1],:].values,y_pred_undersample_lr)\n",
    "        recall_accs.append(recall_acc)\n",
    "        print 'Iteration %s : recall score = %s' % (iteration, recall_acc)\n",
    "    mean = sum(recall_accs)/k\n",
    "    if mean > best:\n",
    "        best = mean\n",
    "        best_c = i\n",
    "    print 'Mean recall score = %s\\n' % mean\n",
    "print 'Best mean recall score = %s, Best C = %s' % (best, best_c)"
   ]
  },
  {
   "cell_type": "markdown",
   "metadata": {
    "run_control": {
     "frozen": false,
     "read_only": false
    }
   },
   "source": [
    "Now that we know the best C parameter for the Logistic Regression we can apply it to the confusion matrix to measure its performance."
   ]
  },
  {
   "cell_type": "markdown",
   "metadata": {
    "run_control": {
     "frozen": false,
     "read_only": false
    }
   },
   "source": [
    "### Logistic Regression Confusion Matrix Under-sampled data"
   ]
  },
  {
   "cell_type": "code",
   "execution_count": 212,
   "metadata": {
    "run_control": {
     "frozen": false,
     "read_only": false
    }
   },
   "outputs": [
    {
     "data": {
      "image/png": "[encoded data removed]",
      "text/plain": [
       "<matplotlib.figure.Figure at 0x115b95950>"
      ]
     },
     "metadata": {},
     "output_type": "display_data"
    },
    {
     "name": "stdout",
     "output_type": "stream",
     "text": [
      "Recall metric in the Testing Dataset: 92.517%\n",
      "Undetected Fraudulent Transactions: 8.088%\n"
     ]
    }
   ],
   "source": [
    "# Set-Up Logistic Regression\n",
    "lr = LogisticRegression(C = 0.01, penalty = 'l1')\n",
    "\n",
    "# Train Logistic Regression\n",
    "lr.fit(X_train_un,y_train_un.values.ravel())\n",
    "\n",
    "# Predict labels on Under-sampled Dataset\n",
    "y_pred_un_lr = lr.predict(X_test_un.values)\n",
    "    \n",
    "# Compute confusion matrix\n",
    "cnf_matrix = confusion_matrix(y_test_un, y_pred_un_lr)\n",
    "np.set_printoptions(precision=2)\n",
    "\n",
    "# Plot confusion matrix\n",
    "class_names = ['Normal','Fraud']\n",
    "plt.figure()\n",
    "plot_confusion_matrix(cnf_matrix, classes=class_names, title='Confusion matrix')\n",
    "plt.show()\n",
    "\n",
    "# Print statistics\n",
    "print \"LR Score: %.3f%%\" % (100.0*(lr.score(X_test, y_test)))\n",
    "print \"Recall metric in the Testing Dataset: %.3f%%\" % (100.0 * (cnf_matrix[1,1]/(cnf_matrix[1,0]+cnf_matrix[1,1])))\n",
    "print \"Undetected Fraudulent Transactions: %.3f%%\" % (100.0 * (cnf_matrix[1,0]/cnf_matrix[1,1]))"
   ]
  },
  {
   "cell_type": "markdown",
   "metadata": {
    "run_control": {
     "frozen": false,
     "read_only": false
    }
   },
   "source": [
    "The LR score returns the Mean accuracy of `lr.predict(X_test_un)` with respect to `y_test_un`.\n",
    "We now do the same as we did with the neural network, we apply the network on the whole dataset to test its performance."
   ]
  },
  {
   "cell_type": "markdown",
   "metadata": {
    "run_control": {
     "frozen": false,
     "read_only": false
    }
   },
   "source": [
    "### Logistic Regression Confusion Matrix Whole data"
   ]
  },
  {
   "cell_type": "code",
   "execution_count": 218,
   "metadata": {
    "run_control": {
     "frozen": false,
     "read_only": false
    }
   },
   "outputs": [
    {
     "data": {
      "image/png": "[encoded data removed]",
      "text/plain": [
       "<matplotlib.figure.Figure at 0x113e86b50>"
      ]
     },
     "metadata": {},
     "output_type": "display_data"
    },
    {
     "name": "stdout",
     "output_type": "stream",
     "text": [
      "LR Score: 88.833%\n",
      "Recall metric in the Testing Dataset: 91.156%\n",
      "Undetected Fraudulent Transactions: 9.701%\n"
     ]
    }
   ],
   "source": [
    "# Predict labels on Whole Dataset\n",
    "y_pred_lr = lr.predict(X_test.values)\n",
    "    \n",
    "# Compute confusion matrix\n",
    "cnf_matrix = confusion_matrix(y_test, y_pred_lr)\n",
    "np.set_printoptions(precision=2)\n",
    "\n",
    "# Plot non-normalized confusion matrix\n",
    "class_names = ['Normal','Fraud']\n",
    "plt.figure()\n",
    "plot_confusion_matrix(cnf_matrix, classes=class_names, title='Confusion matrix (Whole Dataset)')\n",
    "plt.show()\n",
    "\n",
    "# Print statistics\n",
    "print \"LR Score: %.3f%%\" % (100.0*(lr.score(X_test, y_test)))\n",
    "print \"Recall metric in the Testing Dataset: %.3f%%\" % (100.0 * (cnf_matrix[1,1]/(cnf_matrix[1,0]+cnf_matrix[1,1])))\n",
    "print \"Undetected Fraudulent Transactions: %.3f%%\" % (100.0 * (cnf_matrix[1,0]/cnf_matrix[1,1]))"
   ]
  },
  {
   "cell_type": "markdown",
   "metadata": {
    "run_control": {
     "frozen": false,
     "read_only": false
    }
   },
   "source": [
    "### Plot Logistic Regression"
   ]
  },
  {
   "cell_type": "markdown",
   "metadata": {
    "run_control": {
     "frozen": false,
     "read_only": false
    }
   },
   "source": [
    "A useful metric for logistic regression is the so-called Receiver Operating Characteristic (ROC) curve. The y-axis represents the True Positive TP (sensitivity) rate and the x-axis represents the False Positive FP (1 – specificity) rate.\n",
    "\n",
    "* Sensitivity = TP/(TP + FN) = TP/PP = the ability of the test to detect fraudulent transactions in a dataset with fraudulent transactions.\n",
    "* Specificity = TN/(TN + FP) = TN / NP = the ability of the test to correctly rule out the fraudulent transactions in a fraudulent free dataset."
   ]
  },
  {
   "cell_type": "code",
   "execution_count": 278,
   "metadata": {
    "run_control": {
     "frozen": false,
     "read_only": false
    }
   },
   "outputs": [
    {
     "data": {
      "image/png": "[encoded data removed]",
      "text/plain": [
       "<matplotlib.figure.Figure at 0x11ae0a490>"
      ]
     },
     "metadata": {},
     "output_type": "display_data"
    }
   ],
   "source": [
    "# ROC CURVE\n",
    "lr = LogisticRegression(C = 100, penalty = 'l1')\n",
    "y_pred_un_score = lr.fit(X_train_un,y_train_un.values.ravel()).decision_function(X_test_un.values)\n",
    "\n",
    "fpr, tpr, thresholds = roc_curve(y_test_un.values.ravel(),y_pred_un_score)\n",
    "roc_auc = auc(fpr,tpr)\n",
    "\n",
    "# Plot ROC\n",
    "plt.title('Receiver Operating Characteristic')\n",
    "plt.plot(fpr, tpr, 'b',label='AUC = %0.2f'% roc_auc)\n",
    "plt.legend(loc='lower right')\n",
    "plt.plot([0,1],[0,1],'r--')\n",
    "plt.xlim([-0.1,1.0])\n",
    "plt.ylim([-0.1,1.01])\n",
    "plt.ylabel('True Positive Rate')\n",
    "plt.xlabel('False Positive Rate')\n",
    "plt.show()"
   ]
  },
  {
   "cell_type": "markdown",
   "metadata": {
    "run_control": {
     "frozen": false,
     "read_only": false
    }
   },
   "source": [
    "The graph shows that the Logistic Regression got applied in an excellent manner, because the blue line increases in the True Positive rate very quickly and only very late starts to asymptotically increase in the False Positive rate. This graph can be used to to select a threshold for a classifier which maximizes the true positives, while minimizing the false positives. However, different types of problems have different optimal classifier thresholds."
   ]
  },
  {
   "cell_type": "markdown",
   "metadata": {
    "run_control": {
     "frozen": false,
     "read_only": false
    }
   },
   "source": [
    "# Conclusion"
   ]
  },
  {
   "cell_type": "markdown",
   "metadata": {
    "run_control": {
     "frozen": false,
     "read_only": false
    }
   },
   "source": [
    "## Results"
   ]
  },
  {
   "cell_type": "markdown",
   "metadata": {
    "run_control": {
     "frozen": false,
     "read_only": false
    }
   },
   "source": [
    "When I first ran both supervised machine learning algorithms (MLPClassifier & Logistic Regression), the logistic regression algorithm performed significantly better. In my initial result the MLPClassifier did not detect 17.6% of the fraudulent transactions, which is good considering that 4 out of 5 get detected, but not as good as it could be. The logistic regression approach however performed a lot better. Only 9.7% of the fraudulent transactions went undetected, meaning that 9 in 10 fraudulent transaction got classified correctly. This is a significant increase in predictability. The mean accuracy of `lr.predict()` however was only 88.8%. But much to my surprise I achieved the best performance, by using the `MLPClassifier` again. The first time I trained it, it only took 4 epochs to be trained, which was extremely low. But for my best result, it took the network 203 epochs to train. This time only 2.8% of the fraudulent transactions went undetected. The recall metric was 97.2%. The only difference to the first run is that I removed the time column from the dataset. "
   ]
  },
  {
   "cell_type": "markdown",
   "metadata": {
    "run_control": {
     "frozen": false,
     "read_only": false
    }
   },
   "source": [
    "<img src=\"images/best.png\" alt=\"Best Result using MLPClassifier\" style=\"width: 300px;\"/>"
   ]
  },
  {
   "cell_type": "markdown",
   "metadata": {
    "run_control": {
     "frozen": false,
     "read_only": false
    }
   },
   "source": [
    "## Difficulties"
   ]
  },
  {
   "cell_type": "markdown",
   "metadata": {
    "run_control": {
     "frozen": false,
     "read_only": false
    }
   },
   "source": [
    "**1. Training on Unbalanced Dataset: **\n",
    "At the beginning of my project I attempted to train the network on the unbalanced dataset using the CONX library. I grew suspicious that something was not right when the Neural Network using Backpropagation got trained after only 2 epochs. As I found out later when exploring the dataset in more depth, I had to under-sample the dataset in order to obtain a balanced dataset between normal and fraudulent transactions. The problem I encountered was that because the data was skewed, the network trained itself to always classify the output as *normal*, because the target values were predominantly of *normal* transactions. This meant that when the backpropagation algorithm calculated the error value, it was below the error-threshhold very quickly, which thus stopped the network from continuing training. In other training tasks this would not be a problem, but since the main task of this algorithm is to correctly identify fraudulent transactions, labeled with \"1\", get classified as being valid transactions. This is very problematic because the goal of this algorithm is to correctly classify fraudulent transactions.\n",
    "    \n",
    "**2. Visualizing the Data: **\n",
    "Visualizing the data on the scikit learn library proved to be a lot harder than I expected it to be. While the library has a documentation online, it is not always complete. For example, I only found out very late in the process that the solver I was using 'L-BFGS' did not store it's error in `loss_curve_` like the documentation stated. Only all the other solvers do. I spend a considerable amount of time trying to plot the loss curve without success, until I found a way to compare different parameters for the loss curve.\n",
    "\n",
    "**3. Using several Libraries simultaneously:**\n",
    "Most of the time the scikit-learn library object were compatible with numpy arrays and other types. However, other times it would only accept a one dimensional or a higher dimensional array. Once it is known what the error is and how to fix it, it is relatively easy to do, but at the beginning I got stuck very often not knowing what the mistake was. This was especially the case when trying to use numpy arrays with the CONX library, until I found out how to index a pandas dataframe with two indices at the end. "
   ]
  },
  {
   "cell_type": "markdown",
   "metadata": {
    "run_control": {
     "frozen": false,
     "read_only": false
    }
   },
   "source": [
    "## Next Steps"
   ]
  },
  {
   "cell_type": "markdown",
   "metadata": {
    "run_control": {
     "frozen": false,
     "read_only": false
    }
   },
   "source": [
    "The next steps in continuing this project would be the following:\n",
    "- to experiment more with the parameters of both the Neural Network and Logistic Regression to see if the performance can be imporoved. \n",
    "- to add more visualizations to see how it works.\n",
    "- to implement a machine learning algorithm called Support-Vector Machine (SVM), \n",
    "- to implement a machine learning algorithm called Decision Trees. \n",
    "- add a bias factor to reduce FN as much as possible.\n",
    "- implement  on the trained dataset."
   ]
  },
  {
   "cell_type": "markdown",
   "metadata": {
    "run_control": {
     "frozen": false,
     "read_only": false
    }
   },
   "source": [
    "## Links"
   ]
  },
  {
   "cell_type": "markdown",
   "metadata": {
    "run_control": {
     "frozen": false,
     "read_only": false
    }
   },
   "source": [
    "1. https://jupyter-notebook-beginner-guide.readthedocs.io/en/latest/execute.html\n",
    "2. http://scikit-learn.org/stable/modules/generated/sklearn.neural_network.MLPClassifier.html\n",
    "3. https://www.kaggle.com/dalpozz/creditcardfraud\n",
    "4. https://www.kaggle.com/joparga3/in-depth-skewed-data-classif-93-recall-acc-now\n",
    "5. http://scikit-learn.org/stable/auto_examples/neural_networks/plot_mlp_training_curves.html#sphx-glr-auto-examples-neural-networks-plot-mlp-training-curves-py\n",
    "6. http://scikit-learn.org/stable/modules/neural_networks_supervised.html\n",
    "7. http://scikit-learn.org/stable/modules/generated/sklearn.linear_model.LogisticRegression.html\n",
    "8. http://www.dataschool.io/simple-guide-to-confusion-matrix-terminology/\n",
    "9. http://scikit-learn.org/stable/modules/cross_validation.html"
   ]
  },
  {
   "cell_type": "markdown",
   "metadata": {
    "run_control": {
     "frozen": false,
     "read_only": false
    }
   },
   "source": [
    "# Appendix: CONX"
   ]
  },
  {
   "cell_type": "markdown",
   "metadata": {
    "run_control": {
     "frozen": false,
     "read_only": false
    }
   },
   "source": [
    "At the very beginning of my conference paper, I tried to use CONX to train a Neural Network with Backpropagation, but I failed because I could not figure out how to index a pandas dataframe. In the meantime I found out how to do it, so I attached the code as an appendix."
   ]
  },
  {
   "cell_type": "markdown",
   "metadata": {
    "run_control": {
     "frozen": false,
     "read_only": false
    }
   },
   "source": [
    "#### Writing Training Patterns to file"
   ]
  },
  {
   "cell_type": "code",
   "execution_count": 220,
   "metadata": {
    "run_control": {
     "frozen": false,
     "read_only": false
    }
   },
   "outputs": [
    {
     "data": {
      "text/plain": [
       "(688, 29)"
      ]
     },
     "execution_count": 220,
     "metadata": {},
     "output_type": "execute_result"
    }
   ],
   "source": [
    "X_train_un.shape"
   ]
  },
  {
   "cell_type": "code",
   "execution_count": 223,
   "metadata": {
    "run_control": {
     "frozen": false,
     "read_only": false
    }
   },
   "outputs": [
    {
     "data": {
      "text/plain": [
       "0.14966179489543802"
      ]
     },
     "execution_count": 223,
     "metadata": {},
     "output_type": "execute_result"
    }
   ],
   "source": [
    "X_train_un.iloc[1,0]"
   ]
  },
  {
   "cell_type": "code",
   "execution_count": 224,
   "metadata": {
    "run_control": {
     "frozen": false,
     "read_only": false
    }
   },
   "outputs": [
    {
     "data": {
      "text/plain": [
       "29"
      ]
     },
     "execution_count": 224,
     "metadata": {},
     "output_type": "execute_result"
    }
   ],
   "source": [
    "len(X_train_un.iloc[1])"
   ]
  },
  {
   "cell_type": "code",
   "execution_count": 236,
   "metadata": {
    "collapsed": true,
    "run_control": {
     "frozen": false,
     "read_only": false
    }
   },
   "outputs": [],
   "source": [
    "f = open(\"training.patterns\", 'w') \n",
    "for i in range(len(X_train_un)):\n",
    "    for k in range(len(X_train_un.iloc[i])):\n",
    "        f.write(\"%s \" % (X_train_un.iloc[i][k]))\n",
    "    f.write('\\n')\n",
    "f.close()"
   ]
  },
  {
   "cell_type": "markdown",
   "metadata": {
    "run_control": {
     "frozen": false,
     "read_only": false
    }
   },
   "source": [
    "#### Writing Training Targets to file "
   ]
  },
  {
   "cell_type": "code",
   "execution_count": 227,
   "metadata": {
    "run_control": {
     "frozen": false,
     "read_only": false
    }
   },
   "outputs": [
    {
     "data": {
      "text/plain": [
       "(688, 1)"
      ]
     },
     "execution_count": 227,
     "metadata": {},
     "output_type": "execute_result"
    }
   ],
   "source": [
    "y_train_un.shape"
   ]
  },
  {
   "cell_type": "code",
   "execution_count": 228,
   "metadata": {
    "run_control": {
     "frozen": false,
     "read_only": false
    }
   },
   "outputs": [
    {
     "data": {
      "text/plain": [
       "(688,)"
      ]
     },
     "execution_count": 228,
     "metadata": {},
     "output_type": "execute_result"
    }
   ],
   "source": [
    "y_train_un_1d.shape"
   ]
  },
  {
   "cell_type": "code",
   "execution_count": 237,
   "metadata": {
    "run_control": {
     "frozen": false,
     "read_only": false
    }
   },
   "outputs": [],
   "source": [
    "d = open('training.targets', 'w')\n",
    "for i in y_train_un_1d:\n",
    "    d.write(\"%s \\n\" % (y_train_un_1d[i]))\n",
    "d.close()"
   ]
  },
  {
   "cell_type": "markdown",
   "metadata": {
    "run_control": {
     "frozen": false,
     "read_only": false
    }
   },
   "source": [
    "#### Writing Testing Patterns to file "
   ]
  },
  {
   "cell_type": "code",
   "execution_count": 239,
   "metadata": {
    "run_control": {
     "frozen": false,
     "read_only": false
    }
   },
   "outputs": [],
   "source": [
    "g = open(\"testing.patterns\", 'w') \n",
    "for i in range(len(X_test_un)):\n",
    "    for k in range(len(X_test_un.iloc[i])):\n",
    "        g.write(\"%s \" % (X_test_un.iloc[i][k]))\n",
    "    g.write('\\n')\n",
    "g.close()"
   ]
  },
  {
   "cell_type": "markdown",
   "metadata": {
    "run_control": {
     "frozen": false,
     "read_only": false
    }
   },
   "source": [
    "#### Writing Testing Targets to file "
   ]
  },
  {
   "cell_type": "code",
   "execution_count": 232,
   "metadata": {
    "run_control": {
     "frozen": false,
     "read_only": false
    }
   },
   "outputs": [
    {
     "data": {
      "text/plain": [
       "(296, 1)"
      ]
     },
     "execution_count": 232,
     "metadata": {},
     "output_type": "execute_result"
    }
   ],
   "source": [
    "y_test_un.shape"
   ]
  },
  {
   "cell_type": "code",
   "execution_count": 235,
   "metadata": {
    "run_control": {
     "frozen": false,
     "read_only": false
    }
   },
   "outputs": [],
   "source": [
    "y_test_un_1d = np.ravel(y_test_un)"
   ]
  },
  {
   "cell_type": "code",
   "execution_count": 240,
   "metadata": {
    "collapsed": true,
    "run_control": {
     "frozen": false,
     "read_only": false
    }
   },
   "outputs": [],
   "source": [
    "h = open('testing.targets', 'w')\n",
    "for i in y_train_un_1d:\n",
    "    h.write(\"%s \\n\" % (y_test_un_1d[i]))\n",
    "h.close()"
   ]
  },
  {
   "cell_type": "markdown",
   "metadata": {
    "run_control": {
     "frozen": false,
     "read_only": false
    }
   },
   "source": [
    "Now we have successfully constructed a patterns and targets file. Now we can use CONX\n"
   ]
  },
  {
   "cell_type": "markdown",
   "metadata": {
    "run_control": {
     "frozen": false,
     "read_only": false
    }
   },
   "source": [
    "## Training Network\n"
   ]
  },
  {
   "cell_type": "code",
   "execution_count": null,
   "metadata": {
    "run_control": {
     "frozen": false,
     "read_only": false
    }
   },
   "outputs": [],
   "source": [
    "from conx import *"
   ]
  },
  {
   "cell_type": "code",
   "execution_count": null,
   "metadata": {
    "run_control": {
     "frozen": false,
     "read_only": false
    }
   },
   "outputs": [],
   "source": [
    "nn = BackpropNetwork()"
   ]
  },
  {
   "cell_type": "code",
   "execution_count": null,
   "metadata": {
    "collapsed": true,
    "run_control": {
     "frozen": false,
     "read_only": false
    }
   },
   "outputs": [],
   "source": [
    "nn.addLayer('input', 29)\n",
    "nn.addLayer('hidden1', 18) \n",
    "nn.addLayer('hidden2', 12)\n",
    "nn.addLayer('hidden3', 8)\n",
    "nn.addLayer('output',  1)\n",
    "\n",
    "nn.connect('input', 'hidden1')\n",
    "nn.connect('hidden1', 'hidden2')\n",
    "nn.connect('hidden2', 'hidden3')\n",
    "nn.connect('hidden3', 'output')"
   ]
  },
  {
   "cell_type": "code",
   "execution_count": null,
   "metadata": {
    "collapsed": true,
    "run_control": {
     "frozen": false,
     "read_only": false
    }
   },
   "outputs": [],
   "source": [
    "nn.setClassifications([ ([0], 'Valid'),\n",
    "                       ([1], 'Fraudulent')\n",
    "                     ])"
   ]
  },
  {
   "cell_type": "code",
   "execution_count": null,
   "metadata": {
    "collapsed": true,
    "run_control": {
     "frozen": false,
     "read_only": false
    }
   },
   "outputs": [],
   "source": [
    "nn.loadInputs(\"training.patterns\")\n",
    "nn.loadTargets(\"training.targets\")"
   ]
  },
  {
   "cell_type": "code",
   "execution_count": null,
   "metadata": {
    "collapsed": true,
    "run_control": {
     "frozen": false,
     "read_only": false
    }
   },
   "outputs": [],
   "source": [
    "nn.setEpsilon(0.2)    # learning rate\n",
    "nn.setMomentum(0.9)   # had at 0.1\n",
    "nn.setTolerance(0.1)\n",
    "nn.setReportRate(20)  # report TSS error every 10 epochs"
   ]
  },
  {
   "cell_type": "code",
   "execution_count": null,
   "metadata": {
    "run_control": {
     "frozen": false,
     "read_only": false
    }
   },
   "outputs": [],
   "source": [
    "print \"credit card fraud detection network set up\""
   ]
  },
  {
   "cell_type": "code",
   "execution_count": null,
   "metadata": {
    "run_control": {
     "frozen": false,
     "read_only": false
    }
   },
   "outputs": [],
   "source": [
    "nn.train(500)"
   ]
  },
  {
   "cell_type": "code",
   "execution_count": null,
   "metadata": {
    "collapsed": true,
    "run_control": {
     "frozen": false,
     "read_only": false
    }
   },
   "outputs": [],
   "source": [
    "nn.saveWeights('NN3.wts')"
   ]
  },
  {
   "cell_type": "markdown",
   "metadata": {
    "collapsed": true,
    "run_control": {
     "frozen": false,
     "read_only": false
    }
   },
   "source": [
    "### Testing Network\n"
   ]
  },
  {
   "cell_type": "code",
   "execution_count": null,
   "metadata": {
    "collapsed": true,
    "run_control": {
     "frozen": false,
     "read_only": false
    }
   },
   "outputs": [],
   "source": [
    "nn.loadInputs(\"testing.patterns\")\n",
    "nn.loadTargets(\"testing.targets\")"
   ]
  },
  {
   "cell_type": "code",
   "execution_count": null,
   "metadata": {
    "run_control": {
     "frozen": false,
     "read_only": false
    }
   },
   "outputs": [],
   "source": [
    "nn.evaluate()"
   ]
  }
 ],
 "metadata": {
  "kernelspec": {
   "display_name": "Python 2",
   "language": "python",
   "name": "python2"
  },
  "language_info": {
   "codemirror_mode": {
    "name": "ipython",
    "version": 2
   },
   "file_extension": ".py",
   "mimetype": "text/x-python",
   "name": "python",
   "nbconvert_exporter": "python",
   "pygments_lexer": "ipython2",
   "version": "2.7.10"
  }
 },
 "nbformat": 4,
 "nbformat_minor": 2
}
